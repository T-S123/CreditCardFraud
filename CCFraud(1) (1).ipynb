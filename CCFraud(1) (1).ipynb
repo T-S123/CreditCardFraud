{
 "cells": [
  {
   "cell_type": "code",
   "execution_count": 1,
   "id": "965f0469",
   "metadata": {},
   "outputs": [
    {
     "name": "stdout",
     "output_type": "stream",
     "text": [
      "Requirement already satisfied: pylatexenc in c:\\users\\tanek\\anaconda3\\lib\\site-packages (2.10)\n",
      "Note: you may need to restart the kernel to use updated packages.\n"
     ]
    }
   ],
   "source": [
    "pip install pylatexenc"
   ]
  },
  {
   "cell_type": "code",
   "execution_count": 2,
   "id": "a120d609",
   "metadata": {},
   "outputs": [
    {
     "name": "stdout",
     "output_type": "stream",
     "text": [
      "Requirement already satisfied: qiskit in c:\\users\\tanek\\anaconda3\\lib\\site-packages (0.46.0)\n",
      "Requirement already satisfied: qiskit-terra==0.46.0 in c:\\users\\tanek\\anaconda3\\lib\\site-packages (from qiskit) (0.46.0)\n",
      "Requirement already satisfied: rustworkx>=0.13.0 in c:\\users\\tanek\\anaconda3\\lib\\site-packages (from qiskit-terra==0.46.0->qiskit) (0.14.0)\n",
      "Requirement already satisfied: numpy<2,>=1.17 in c:\\users\\tanek\\anaconda3\\lib\\site-packages (from qiskit-terra==0.46.0->qiskit) (1.24.3)\n",
      "Requirement already satisfied: ply>=3.10 in c:\\users\\tanek\\anaconda3\\lib\\site-packages (from qiskit-terra==0.46.0->qiskit) (3.11)\n",
      "Requirement already satisfied: psutil>=5 in c:\\users\\tanek\\anaconda3\\lib\\site-packages (from qiskit-terra==0.46.0->qiskit) (5.9.0)\n",
      "Requirement already satisfied: scipy>=1.5 in c:\\users\\tanek\\anaconda3\\lib\\site-packages (from qiskit-terra==0.46.0->qiskit) (1.11.1)\n",
      "Requirement already satisfied: sympy>=1.3 in c:\\users\\tanek\\anaconda3\\lib\\site-packages (from qiskit-terra==0.46.0->qiskit) (1.11.1)\n",
      "Requirement already satisfied: dill>=0.3 in c:\\users\\tanek\\anaconda3\\lib\\site-packages (from qiskit-terra==0.46.0->qiskit) (0.3.6)\n",
      "Requirement already satisfied: python-dateutil>=2.8.0 in c:\\users\\tanek\\anaconda3\\lib\\site-packages (from qiskit-terra==0.46.0->qiskit) (2.8.2)\n",
      "Requirement already satisfied: stevedore>=3.0.0 in c:\\users\\tanek\\anaconda3\\lib\\site-packages (from qiskit-terra==0.46.0->qiskit) (5.1.0)\n",
      "Requirement already satisfied: six>=1.5 in c:\\users\\tanek\\anaconda3\\lib\\site-packages (from python-dateutil>=2.8.0->qiskit-terra==0.46.0->qiskit) (1.16.0)\n",
      "Requirement already satisfied: pbr!=2.1.0,>=2.0.0 in c:\\users\\tanek\\anaconda3\\lib\\site-packages (from stevedore>=3.0.0->qiskit-terra==0.46.0->qiskit) (6.0.0)\n",
      "Requirement already satisfied: mpmath>=0.19 in c:\\users\\tanek\\anaconda3\\lib\\site-packages (from sympy>=1.3->qiskit-terra==0.46.0->qiskit) (1.3.0)\n",
      "Note: you may need to restart the kernel to use updated packages.\n"
     ]
    }
   ],
   "source": [
    "pip install qiskit"
   ]
  },
  {
   "cell_type": "code",
   "execution_count": 3,
   "id": "ea7307d7",
   "metadata": {},
   "outputs": [
    {
     "name": "stdout",
     "output_type": "stream",
     "text": [
      "Requirement already satisfied: qiskit_algorithms in c:\\users\\tanek\\anaconda3\\lib\\site-packages (0.2.2)\n",
      "Requirement already satisfied: qiskit>=0.44 in c:\\users\\tanek\\anaconda3\\lib\\site-packages (from qiskit_algorithms) (0.46.0)\n",
      "Requirement already satisfied: scipy>=1.4 in c:\\users\\tanek\\anaconda3\\lib\\site-packages (from qiskit_algorithms) (1.11.1)\n",
      "Requirement already satisfied: numpy>=1.17 in c:\\users\\tanek\\anaconda3\\lib\\site-packages (from qiskit_algorithms) (1.24.3)\n",
      "Requirement already satisfied: qiskit-terra==0.46.0 in c:\\users\\tanek\\anaconda3\\lib\\site-packages (from qiskit>=0.44->qiskit_algorithms) (0.46.0)\n",
      "Requirement already satisfied: rustworkx>=0.13.0 in c:\\users\\tanek\\anaconda3\\lib\\site-packages (from qiskit-terra==0.46.0->qiskit>=0.44->qiskit_algorithms) (0.14.0)\n",
      "Requirement already satisfied: ply>=3.10 in c:\\users\\tanek\\anaconda3\\lib\\site-packages (from qiskit-terra==0.46.0->qiskit>=0.44->qiskit_algorithms) (3.11)\n",
      "Requirement already satisfied: psutil>=5 in c:\\users\\tanek\\anaconda3\\lib\\site-packages (from qiskit-terra==0.46.0->qiskit>=0.44->qiskit_algorithms) (5.9.0)\n",
      "Requirement already satisfied: sympy>=1.3 in c:\\users\\tanek\\anaconda3\\lib\\site-packages (from qiskit-terra==0.46.0->qiskit>=0.44->qiskit_algorithms) (1.11.1)\n",
      "Requirement already satisfied: dill>=0.3 in c:\\users\\tanek\\anaconda3\\lib\\site-packages (from qiskit-terra==0.46.0->qiskit>=0.44->qiskit_algorithms) (0.3.6)\n",
      "Requirement already satisfied: python-dateutil>=2.8.0 in c:\\users\\tanek\\anaconda3\\lib\\site-packages (from qiskit-terra==0.46.0->qiskit>=0.44->qiskit_algorithms) (2.8.2)\n",
      "Requirement already satisfied: stevedore>=3.0.0 in c:\\users\\tanek\\anaconda3\\lib\\site-packages (from qiskit-terra==0.46.0->qiskit>=0.44->qiskit_algorithms) (5.1.0)\n",
      "Requirement already satisfied: six>=1.5 in c:\\users\\tanek\\anaconda3\\lib\\site-packages (from python-dateutil>=2.8.0->qiskit-terra==0.46.0->qiskit>=0.44->qiskit_algorithms) (1.16.0)\n",
      "Requirement already satisfied: pbr!=2.1.0,>=2.0.0 in c:\\users\\tanek\\anaconda3\\lib\\site-packages (from stevedore>=3.0.0->qiskit-terra==0.46.0->qiskit>=0.44->qiskit_algorithms) (6.0.0)\n",
      "Requirement already satisfied: mpmath>=0.19 in c:\\users\\tanek\\anaconda3\\lib\\site-packages (from sympy>=1.3->qiskit-terra==0.46.0->qiskit>=0.44->qiskit_algorithms) (1.3.0)\n",
      "Note: you may need to restart the kernel to use updated packages.\n"
     ]
    }
   ],
   "source": [
    "pip install qiskit_algorithms"
   ]
  },
  {
   "cell_type": "code",
   "execution_count": 197,
   "id": "7a44f978",
   "metadata": {},
   "outputs": [],
   "source": [
    "import pandas as pd\n",
    "import numpy as np\n",
    "import matplotlib.pyplot as plt\n",
    "import seaborn as sns\n",
    "\n",
    "from sklearn.model_selection import train_test_split\n",
    "from sklearn.utils import shuffle\n",
    "from sklearn.preprocessing import StandardScaler, MinMaxScaler\n",
    "from sklearn.decomposition import PCA\n",
    "\n",
    "from copy import deepcopy as copy\n",
    "\n",
    "import qiskit\n",
    "from IPython.display import clear_output\n",
    "from qiskit import QuantumCircuit\n",
    "from qiskit.circuit import ParameterVector, Gate\n",
    "from qiskit.circuit.library.standard_gates import UGate\n",
    "from qiskit.exceptions import QiskitError\n",
    "import numpy as np\n",
    "from typing import List, Optional\n",
    "import matplotlib.pyplot as plt\n",
    "from qiskit_machine_learning import QiskitMachineLearningError\n",
    "import itertools\n",
    "from qiskit_machine_learning.neural_networks import EstimatorQNN\n",
    "from qiskit_algorithms.utils import algorithm_globals\n",
    "from qiskit_machine_learning.algorithms.classifiers import NeuralNetworkClassifier\n",
    "from qiskit_algorithms.optimizers import COBYLA, SPSA\n",
    "\n",
    "%matplotlib inline"
   ]
  },
  {
   "cell_type": "code",
   "execution_count": 198,
   "id": "0fafe90d",
   "metadata": {},
   "outputs": [],
   "source": [
    "data = pd.read_csv('HI-Small_Trans.csv')"
   ]
  },
  {
   "cell_type": "code",
   "execution_count": 199,
   "id": "6f442c68",
   "metadata": {
    "scrolled": false
   },
   "outputs": [
    {
     "data": {
      "text/html": [
       "<div>\n",
       "<style scoped>\n",
       "    .dataframe tbody tr th:only-of-type {\n",
       "        vertical-align: middle;\n",
       "    }\n",
       "\n",
       "    .dataframe tbody tr th {\n",
       "        vertical-align: top;\n",
       "    }\n",
       "\n",
       "    .dataframe thead th {\n",
       "        text-align: right;\n",
       "    }\n",
       "</style>\n",
       "<table border=\"1\" class=\"dataframe\">\n",
       "  <thead>\n",
       "    <tr style=\"text-align: right;\">\n",
       "      <th></th>\n",
       "      <th>Timestamp</th>\n",
       "      <th>From Bank</th>\n",
       "      <th>Account</th>\n",
       "      <th>To Bank</th>\n",
       "      <th>Account.1</th>\n",
       "      <th>Amount Received</th>\n",
       "      <th>Receiving Currency</th>\n",
       "      <th>Amount Paid</th>\n",
       "      <th>Payment Currency</th>\n",
       "      <th>Payment Format</th>\n",
       "      <th>Is Laundering</th>\n",
       "    </tr>\n",
       "  </thead>\n",
       "  <tbody>\n",
       "    <tr>\n",
       "      <th>0</th>\n",
       "      <td>2022/09/01 00:20</td>\n",
       "      <td>10</td>\n",
       "      <td>8000EBD30</td>\n",
       "      <td>10</td>\n",
       "      <td>8000EBD30</td>\n",
       "      <td>3697.340000</td>\n",
       "      <td>US Dollar</td>\n",
       "      <td>3697.340000</td>\n",
       "      <td>US Dollar</td>\n",
       "      <td>Reinvestment</td>\n",
       "      <td>0</td>\n",
       "    </tr>\n",
       "    <tr>\n",
       "      <th>1</th>\n",
       "      <td>2022/09/01 00:20</td>\n",
       "      <td>3208</td>\n",
       "      <td>8000F4580</td>\n",
       "      <td>1</td>\n",
       "      <td>8000F5340</td>\n",
       "      <td>0.010000</td>\n",
       "      <td>US Dollar</td>\n",
       "      <td>0.010000</td>\n",
       "      <td>US Dollar</td>\n",
       "      <td>Cheque</td>\n",
       "      <td>0</td>\n",
       "    </tr>\n",
       "    <tr>\n",
       "      <th>2</th>\n",
       "      <td>2022/09/01 00:00</td>\n",
       "      <td>3209</td>\n",
       "      <td>8000F4670</td>\n",
       "      <td>3209</td>\n",
       "      <td>8000F4670</td>\n",
       "      <td>14675.570000</td>\n",
       "      <td>US Dollar</td>\n",
       "      <td>14675.570000</td>\n",
       "      <td>US Dollar</td>\n",
       "      <td>Reinvestment</td>\n",
       "      <td>0</td>\n",
       "    </tr>\n",
       "    <tr>\n",
       "      <th>3</th>\n",
       "      <td>2022/09/01 00:02</td>\n",
       "      <td>12</td>\n",
       "      <td>8000F5030</td>\n",
       "      <td>12</td>\n",
       "      <td>8000F5030</td>\n",
       "      <td>2806.970000</td>\n",
       "      <td>US Dollar</td>\n",
       "      <td>2806.970000</td>\n",
       "      <td>US Dollar</td>\n",
       "      <td>Reinvestment</td>\n",
       "      <td>0</td>\n",
       "    </tr>\n",
       "    <tr>\n",
       "      <th>4</th>\n",
       "      <td>2022/09/01 00:06</td>\n",
       "      <td>10</td>\n",
       "      <td>8000F5200</td>\n",
       "      <td>10</td>\n",
       "      <td>8000F5200</td>\n",
       "      <td>36682.970000</td>\n",
       "      <td>US Dollar</td>\n",
       "      <td>36682.970000</td>\n",
       "      <td>US Dollar</td>\n",
       "      <td>Reinvestment</td>\n",
       "      <td>0</td>\n",
       "    </tr>\n",
       "    <tr>\n",
       "      <th>...</th>\n",
       "      <td>...</td>\n",
       "      <td>...</td>\n",
       "      <td>...</td>\n",
       "      <td>...</td>\n",
       "      <td>...</td>\n",
       "      <td>...</td>\n",
       "      <td>...</td>\n",
       "      <td>...</td>\n",
       "      <td>...</td>\n",
       "      <td>...</td>\n",
       "      <td>...</td>\n",
       "    </tr>\n",
       "    <tr>\n",
       "      <th>5078340</th>\n",
       "      <td>2022/09/10 23:57</td>\n",
       "      <td>54219</td>\n",
       "      <td>8148A6631</td>\n",
       "      <td>256398</td>\n",
       "      <td>8148A8711</td>\n",
       "      <td>0.154978</td>\n",
       "      <td>Bitcoin</td>\n",
       "      <td>0.154978</td>\n",
       "      <td>Bitcoin</td>\n",
       "      <td>Bitcoin</td>\n",
       "      <td>0</td>\n",
       "    </tr>\n",
       "    <tr>\n",
       "      <th>5078341</th>\n",
       "      <td>2022/09/10 23:35</td>\n",
       "      <td>15</td>\n",
       "      <td>8148A8671</td>\n",
       "      <td>256398</td>\n",
       "      <td>8148A8711</td>\n",
       "      <td>0.108128</td>\n",
       "      <td>Bitcoin</td>\n",
       "      <td>0.108128</td>\n",
       "      <td>Bitcoin</td>\n",
       "      <td>Bitcoin</td>\n",
       "      <td>0</td>\n",
       "    </tr>\n",
       "    <tr>\n",
       "      <th>5078342</th>\n",
       "      <td>2022/09/10 23:52</td>\n",
       "      <td>154365</td>\n",
       "      <td>8148A6771</td>\n",
       "      <td>256398</td>\n",
       "      <td>8148A8711</td>\n",
       "      <td>0.004988</td>\n",
       "      <td>Bitcoin</td>\n",
       "      <td>0.004988</td>\n",
       "      <td>Bitcoin</td>\n",
       "      <td>Bitcoin</td>\n",
       "      <td>0</td>\n",
       "    </tr>\n",
       "    <tr>\n",
       "      <th>5078343</th>\n",
       "      <td>2022/09/10 23:46</td>\n",
       "      <td>256398</td>\n",
       "      <td>8148A6311</td>\n",
       "      <td>256398</td>\n",
       "      <td>8148A8711</td>\n",
       "      <td>0.038417</td>\n",
       "      <td>Bitcoin</td>\n",
       "      <td>0.038417</td>\n",
       "      <td>Bitcoin</td>\n",
       "      <td>Bitcoin</td>\n",
       "      <td>0</td>\n",
       "    </tr>\n",
       "    <tr>\n",
       "      <th>5078344</th>\n",
       "      <td>2022/09/10 23:37</td>\n",
       "      <td>154518</td>\n",
       "      <td>8148A6091</td>\n",
       "      <td>256398</td>\n",
       "      <td>8148A8711</td>\n",
       "      <td>0.281983</td>\n",
       "      <td>Bitcoin</td>\n",
       "      <td>0.281983</td>\n",
       "      <td>Bitcoin</td>\n",
       "      <td>Bitcoin</td>\n",
       "      <td>0</td>\n",
       "    </tr>\n",
       "  </tbody>\n",
       "</table>\n",
       "<p>5078345 rows × 11 columns</p>\n",
       "</div>"
      ],
      "text/plain": [
       "                Timestamp  From Bank    Account  To Bank  Account.1  \\\n",
       "0        2022/09/01 00:20         10  8000EBD30       10  8000EBD30   \n",
       "1        2022/09/01 00:20       3208  8000F4580        1  8000F5340   \n",
       "2        2022/09/01 00:00       3209  8000F4670     3209  8000F4670   \n",
       "3        2022/09/01 00:02         12  8000F5030       12  8000F5030   \n",
       "4        2022/09/01 00:06         10  8000F5200       10  8000F5200   \n",
       "...                   ...        ...        ...      ...        ...   \n",
       "5078340  2022/09/10 23:57      54219  8148A6631   256398  8148A8711   \n",
       "5078341  2022/09/10 23:35         15  8148A8671   256398  8148A8711   \n",
       "5078342  2022/09/10 23:52     154365  8148A6771   256398  8148A8711   \n",
       "5078343  2022/09/10 23:46     256398  8148A6311   256398  8148A8711   \n",
       "5078344  2022/09/10 23:37     154518  8148A6091   256398  8148A8711   \n",
       "\n",
       "         Amount Received Receiving Currency   Amount Paid Payment Currency  \\\n",
       "0            3697.340000          US Dollar   3697.340000        US Dollar   \n",
       "1               0.010000          US Dollar      0.010000        US Dollar   \n",
       "2           14675.570000          US Dollar  14675.570000        US Dollar   \n",
       "3            2806.970000          US Dollar   2806.970000        US Dollar   \n",
       "4           36682.970000          US Dollar  36682.970000        US Dollar   \n",
       "...                  ...                ...           ...              ...   \n",
       "5078340         0.154978            Bitcoin      0.154978          Bitcoin   \n",
       "5078341         0.108128            Bitcoin      0.108128          Bitcoin   \n",
       "5078342         0.004988            Bitcoin      0.004988          Bitcoin   \n",
       "5078343         0.038417            Bitcoin      0.038417          Bitcoin   \n",
       "5078344         0.281983            Bitcoin      0.281983          Bitcoin   \n",
       "\n",
       "        Payment Format  Is Laundering  \n",
       "0         Reinvestment              0  \n",
       "1               Cheque              0  \n",
       "2         Reinvestment              0  \n",
       "3         Reinvestment              0  \n",
       "4         Reinvestment              0  \n",
       "...                ...            ...  \n",
       "5078340        Bitcoin              0  \n",
       "5078341        Bitcoin              0  \n",
       "5078342        Bitcoin              0  \n",
       "5078343        Bitcoin              0  \n",
       "5078344        Bitcoin              0  \n",
       "\n",
       "[5078345 rows x 11 columns]"
      ]
     },
     "execution_count": 199,
     "metadata": {},
     "output_type": "execute_result"
    }
   ],
   "source": [
    "data"
   ]
  },
  {
   "cell_type": "code",
   "execution_count": 200,
   "id": "5b652ca4",
   "metadata": {},
   "outputs": [],
   "source": [
    "# Y feature: is laundering"
   ]
  },
  {
   "cell_type": "code",
   "execution_count": 201,
   "id": "d4e175ab",
   "metadata": {},
   "outputs": [
    {
     "name": "stdout",
     "output_type": "stream",
     "text": [
      "<class 'pandas.core.frame.DataFrame'>\n",
      "RangeIndex: 5078345 entries, 0 to 5078344\n",
      "Data columns (total 11 columns):\n",
      " #   Column              Dtype  \n",
      "---  ------              -----  \n",
      " 0   Timestamp           object \n",
      " 1   From Bank           int64  \n",
      " 2   Account             object \n",
      " 3   To Bank             int64  \n",
      " 4   Account.1           object \n",
      " 5   Amount Received     float64\n",
      " 6   Receiving Currency  object \n",
      " 7   Amount Paid         float64\n",
      " 8   Payment Currency    object \n",
      " 9   Payment Format      object \n",
      " 10  Is Laundering       int64  \n",
      "dtypes: float64(2), int64(3), object(6)\n",
      "memory usage: 426.2+ MB\n"
     ]
    }
   ],
   "source": [
    "data.info()"
   ]
  },
  {
   "cell_type": "code",
   "execution_count": 202,
   "id": "9189d6bd",
   "metadata": {},
   "outputs": [
    {
     "data": {
      "text/plain": [
       "Is Laundering\n",
       "0    5073168\n",
       "1       5177\n",
       "Name: count, dtype: int64"
      ]
     },
     "execution_count": 202,
     "metadata": {},
     "output_type": "execute_result"
    }
   ],
   "source": [
    "data['Is Laundering'].value_counts()"
   ]
  },
  {
   "cell_type": "code",
   "execution_count": 203,
   "id": "a5d4e432",
   "metadata": {},
   "outputs": [],
   "source": [
    "x0 = []\n",
    "for i in data['Amount Received']:\n",
    "    if str(i) == 'nan': x0.append(None)\n",
    "    else: x0.append(i)"
   ]
  },
  {
   "cell_type": "code",
   "execution_count": 204,
   "id": "0134bf89",
   "metadata": {},
   "outputs": [],
   "source": [
    "currency_dict = {\n",
    "    'US Dollar':0, 'Bitcoin':1, 'Euro':2, 'Australian Dollar':3, 'Yuan':4,\n",
    "    'Rupee':5, 'Mexican Peso':6, 'Yen':7, 'UK Pound':8, 'Ruble': 9,\n",
    "    'Canadian Dollar':10, 'Swiss Franc':11, 'Brazil Real':12, 'Saudi Riyal':13,\n",
    "    'Shekel':14\n",
    "}\n",
    "\n",
    "x1_unfiltered = list(data['Receiving Currency'])\n",
    "x1 = []\n",
    "for currency in x1_unfiltered:\n",
    "    currency_vect = [0 for i in range(15)]\n",
    "    if str(currency) != 'nan': currency_vect[currency_dict[currency]] = 1.  \n",
    "    x1.append(currency_vect)"
   ]
  },
  {
   "cell_type": "code",
   "execution_count": 205,
   "id": "5437c440",
   "metadata": {},
   "outputs": [],
   "source": [
    "x2 = []\n",
    "for i in data['Amount Paid']:\n",
    "    if str(i) == 'nan': x2.append(None)\n",
    "    else: x2.append(i)"
   ]
  },
  {
   "cell_type": "code",
   "execution_count": 206,
   "id": "48b88bca",
   "metadata": {},
   "outputs": [],
   "source": [
    "payment_currency_dict = {\n",
    "    'US Dollar': 0, 'Bitcoin': 1, 'Euro': 2, 'Australian Dollar': 3, 'Yuan': 4,\n",
    "    'Rupee': 5, 'Yen': 6, 'Mexican Peso': 7, 'UK Pound': 8, 'Ruble': 9,\n",
    "    'Canadian Dollar': 10, 'Swiss Franc': 11, 'Brazil Real': 12, 'Saudi Riyal': 13,\n",
    "    'Shekel': 14\n",
    "}\n",
    "\n",
    "x3_unfiltered = list(data['Payment Currency'])\n",
    "x3 = []\n",
    "for currency in x3_unfiltered:\n",
    "    currency_vect = [0 for i in range(15)]\n",
    "    if str(currency) != 'nan':\n",
    "        currency_vect[payment_currency_dict[currency]] = 1.\n",
    "    x3.append(currency_vect)"
   ]
  },
  {
   "cell_type": "code",
   "execution_count": 207,
   "id": "368c7ab8",
   "metadata": {},
   "outputs": [],
   "source": [
    "payment_format_dict = {\n",
    "    'Reinvestment': 0, 'Cheque': 1, 'Credit Card': 2, 'ACH': 3, 'Cash': 4,\n",
    "    'Wire': 5, 'Bitcoin': 6\n",
    "}\n",
    "\n",
    "x4_unfiltered = list(data['Payment Format'])\n",
    "x4 = []\n",
    "for payment in x4_unfiltered:\n",
    "    payment_vect = [0 for i in range(7)]\n",
    "    if str(payment) != 'nan':\n",
    "        payment_vect[payment_format_dict[payment]] = 1.\n",
    "    x4.append(payment_vect)"
   ]
  },
  {
   "cell_type": "code",
   "execution_count": 208,
   "id": "64e0434b",
   "metadata": {},
   "outputs": [],
   "source": [
    "x5 = []\n",
    "for i in range(len(data['From Bank'])):\n",
    "    if data['From Bank'].values[i] == data['To Bank'].values[i]:\n",
    "        x5.append(0)\n",
    "    else:\n",
    "        x5.append(1.)"
   ]
  },
  {
   "cell_type": "code",
   "execution_count": 209,
   "id": "d786df45",
   "metadata": {},
   "outputs": [],
   "source": [
    "x6 = []\n",
    "for i in range(len(data['Account'])):\n",
    "    if data['Account'].values[i] == data['Account.1'].values[i]:\n",
    "        x6.append(0)\n",
    "    else:\n",
    "        x6.append(1.)"
   ]
  },
  {
   "cell_type": "code",
   "execution_count": 210,
   "id": "0988c367",
   "metadata": {},
   "outputs": [],
   "source": [
    "y = []\n",
    "x = []\n",
    "\n",
    "for i, launder in enumerate(data['Is Laundering']):\n",
    "    if str(launder) == \"nan\" or x0[i] == None or x2[i] == None: continue\n",
    "    y.append(int(launder))\n",
    "    x.append([x0[i]] + x1[i] + [x2[i]] + x3[i] + x4[i] + [x5[i]] + [x6[i]])"
   ]
  },
  {
   "cell_type": "code",
   "execution_count": 211,
   "id": "de1bbb2a",
   "metadata": {},
   "outputs": [],
   "source": [
    "x = np.array(x)\n",
    "y = np.array(y)\n",
    "\n",
    "x, y = shuffle(x, y, random_state=42)"
   ]
  },
  {
   "cell_type": "code",
   "execution_count": 212,
   "id": "53b6f2d1",
   "metadata": {},
   "outputs": [],
   "source": [
    "# Create smaller dataset to run SPSA optimization more quickly\n",
    "\n",
    "class_0_indices = np.where(y == 0)[0]\n",
    "class_1_indices = np.where(y == 1)[0]\n",
    "\n",
    "sampled_class_0_indices = np.random.choice(class_0_indices, 1000, replace=False)\n",
    "sampled_class_1_indices = np.random.choice(class_1_indices, 500, replace=False)\n",
    "\n",
    "sampled_indices = np.concatenate([sampled_class_0_indices, sampled_class_1_indices])\n",
    "x = x[sampled_indices]\n",
    "y = y[sampled_indices]\n",
    "\n",
    "y = [-1 if j == 0 else j for j in y]"
   ]
  },
  {
   "cell_type": "code",
   "execution_count": 213,
   "id": "464f28c0",
   "metadata": {},
   "outputs": [],
   "source": [
    "x = np.array(x)\n",
    "y = np.array(y)\n",
    "\n",
    "x, y = shuffle(x, y, random_state=42)"
   ]
  },
  {
   "cell_type": "code",
   "execution_count": 214,
   "id": "9d50f871",
   "metadata": {},
   "outputs": [
    {
     "name": "stdout",
     "output_type": "stream",
     "text": [
      "[-5.41777870e+06 -1.97996455e+05  1.04772691e+00 -6.96965030e-01\n",
      "  6.01769399e-01 -2.77910275e-01 -8.40111936e-02  4.90610947e-02\n",
      "  4.68862988e-02 -1.91870511e-02 -2.24492612e-02 -3.38027083e-02\n",
      " -3.99864862e-03 -3.69989929e-03  5.69140390e-03  6.45776085e-03\n",
      "  8.16943612e-03  1.58539534e-03 -2.63811031e-03 -9.77453645e-03\n",
      " -2.99396780e-03 -3.34803187e-02 -9.27500017e-04  6.51265610e-03\n",
      " -7.11640017e-04  4.85678877e-04  4.24516431e-04  2.54914186e-05\n",
      " -1.66374477e-05  3.70700689e-04 -6.31041328e-10  2.81829762e-11]\n",
      "[-6.68839788e-02 -2.17343900e-02  1.38053966e+00 -1.23147282e+00\n",
      "  1.16008606e+00 -5.86962858e-01 -1.95974660e-01  1.49820582e-01\n",
      "  1.50020184e-01 -6.56400311e-02 -8.05638059e-02 -1.23186687e-01\n",
      " -1.52308031e-02 -1.47713891e-02  2.33636887e-02  2.82809773e-02\n",
      "  3.70140172e-02  7.32298968e-03 -1.30474126e-02 -5.71207001e-02\n",
      " -2.06944751e-02 -2.66408500e-01 -9.96956972e-03  8.28157219e-02\n",
      " -1.62219013e-02  1.73878168e-02  1.78425650e-02  1.25384148e-03\n",
      " -8.19085479e-04  2.03424416e-02 -2.15064898e-02  2.93344017e-02]\n",
      "[-9.99984545e-01 -8.63290895e-01  9.96210654e-01 -9.34088462e-01\n",
      "  7.55645824e-01 -5.84218988e-01 -6.87469996e-01 -1.34563033e-01\n",
      " -1.98298626e-01 -1.05854246e-01 -3.21763600e-01 -3.82265630e-02\n",
      " -1.77712495e-01 -7.85582629e-02 -4.44740401e-02 -2.12808785e-01\n",
      " -5.55263504e-02 -1.47591506e-02 -4.47683548e-01 -8.14393639e-01\n",
      " -4.17128791e-01 -6.72739047e-01 -3.25589382e-03 -2.48670941e-02\n",
      " -4.86086357e-02 -5.91879539e-02 -9.22621967e-02 -5.54841196e-04\n",
      " -8.90612827e-03 -2.39362124e-01  9.99986844e-01 -9.99999641e-01]\n"
     ]
    }
   ],
   "source": [
    "sample_train, sample_test, label_train, label_test = train_test_split(x, y, test_size=0.2, random_state=42, shuffle=True)\n",
    "\n",
    "# Reduce dimensions\n",
    "n_dim = 32\n",
    "pca = PCA(n_components=n_dim).fit(sample_train)\n",
    "sample_train = pca.transform(sample_train)\n",
    "sample_test = pca.transform(sample_test)\n",
    "\n",
    "print(sample_train[0])\n",
    "\n",
    "# Normalise\n",
    "std_scale = StandardScaler().fit(sample_train)\n",
    "sample_train = std_scale.transform(sample_train)\n",
    "sample_test = std_scale.transform(sample_test)\n",
    "\n",
    "print(sample_train[0])\n",
    "\n",
    "# Scale\n",
    "samples = np.append(sample_train, sample_test, axis=0)\n",
    "minmax_scale = MinMaxScaler((-1, 1)).fit(samples)\n",
    "sample_train = minmax_scale.transform(sample_train)\n",
    "sample_test = minmax_scale.transform(sample_test)\n",
    "\n",
    "print(sample_train[0])"
   ]
  },
  {
   "cell_type": "code",
   "execution_count": null,
   "id": "f56df53a",
   "metadata": {},
   "outputs": [],
   "source": [
    "# NOTE: Code missing: Derivation of angles to embed data points as quantum states, creation of general amplitude embedding \n",
    "# circuit, and strongly entangling layers ansatz. These are all part of a future patent package. Contact developer for more\n",
    "# details."
   ]
  },
  {
   "cell_type": "code",
   "execution_count": 223,
   "id": "6c8f38c2",
   "metadata": {},
   "outputs": [],
   "source": [
    "np.random.seed(42)"
   ]
  },
  {
   "cell_type": "code",
   "execution_count": 224,
   "id": "5e425540",
   "metadata": {},
   "outputs": [],
   "source": [
    "def callback_graph(weights, obj_func_eval):\n",
    "    clear_output(wait=True)\n",
    "    objective_func_vals.append(obj_func_eval)\n",
    "    plt.title(\"Objective function value against iteration\")\n",
    "    plt.xlabel(\"Iteration\")\n",
    "    plt.ylabel(\"Objective function value\")\n",
    "    plt.plot(range(len(objective_func_vals)), objective_func_vals)\n",
    "    plt.show()"
   ]
  },
  {
   "cell_type": "code",
   "execution_count": 225,
   "id": "c6056f6b",
   "metadata": {},
   "outputs": [],
   "source": [
    "objective_func_vals = []\n",
    "\n",
    "estimator_classifier = NeuralNetworkClassifier(\n",
    "    estimator_qnn, optimizer=SPSA(maxiter=100, learning_rate=None, perturbation=None), callback=callback_graph\n",
    ")"
   ]
  },
  {
   "cell_type": "code",
   "execution_count": 226,
   "id": "efa703e1",
   "metadata": {
    "scrolled": false
   },
   "outputs": [
    {
     "data": {
      "image/png": "[encoded data removed]",
      "text/plain": [
       "<Figure size 1200x600 with 1 Axes>"
      ]
     },
     "metadata": {},
     "output_type": "display_data"
    },
    {
     "name": "stdout",
     "output_type": "stream",
     "text": [
      "Classifier Accuracy: 80.00%\n"
     ]
    }
   ],
   "source": [
    "plt.rcParams[\"figure.figsize\"] = (12, 6)\n",
    "estimator_classifier.fit(sample_train, label_train)\n",
    "plt.rcParams[\"figure.figsize\"] = (6, 4)\n",
    "score = estimator_classifier.score(sample_test, label_test)\n",
    "print(f\"Classifier Accuracy: {score * 100:.2f}%\")"
   ]
  }
 ],
 "metadata": {
  "kernelspec": {
   "display_name": "Python 3 (ipykernel)",
   "language": "python",
   "name": "python3"
  },
  "language_info": {
   "codemirror_mode": {
    "name": "ipython",
    "version": 3
   },
   "file_extension": ".py",
   "mimetype": "text/x-python",
   "name": "python",
   "nbconvert_exporter": "python",
   "pygments_lexer": "ipython3",
   "version": "3.11.5"
  }
 },
 "nbformat": 4,
 "nbformat_minor": 5
}
